{
 "cells": [
  {
   "cell_type": "markdown",
   "metadata": {},
   "source": [
    "# 2. Distances in cosmology\n",
    "\n",
    "This notebook will step you through calculating distances in cosmology. \n"
   ]
  },
  {
   "cell_type": "markdown",
   "metadata": {},
   "source": [
    "## How far is a galaxy at redshift z?\n",
    "\n",
    "To calculate how far a galaxy is if it has redshift z we need to integrate over the path of the photon since the time of emission to the time of observation. \n",
    "\n",
    "Again we can start with Friedmann's equation,\n",
    "\n",
    "\\begin{equation} H^2 = H_0^2\\sum \\Omega_x a^{-3(1+w_x)}, \\end{equation}\n",
    "\n",
    "and recall that the definition of redshift is that a=(1+z)^{-1}, therefore,\n",
    "\n",
    "\\begin{equation} H^2 = H_0^2\\sum \\Omega_x (1+z)^{3(1+w_x)}, \\end{equation}\n",
    "\n",
    "(notice the change of sign in the exponent).\n",
    "\n",
    "Since $ds=0$ for a photon the metric gives $cdt = Rd\\chi$.  Using $R=R_0a$ that can be rearranged to the equation for the comoving distance,\n",
    "\n",
    "\\begin{equation} R_0\\chi = c\\int \\frac{dt}{a} = c\\int \\frac{dt}{da} \\frac{da}{a} = c\\int \\frac{da}{\\dot{a}a} \\end{equation}\n",
    "\n",
    "Differentiating $a$ with respect to $z$ gives $da = -(1+z)^{-2} dz$, and putting all of that together gives the equation for comoving distance as a function of redshift,\n",
    "\n",
    "\\begin{eqnarray} R_0\\chi &=& c\\int_0^z \\frac{dz}{H(z)}, \\\\\n",
    "                         &=& \\frac{c}{H_0}\\int_0^z \\frac{dz}{E(z)}, \\end{eqnarray}\n",
    "where $E(z)\\equiv H(z)/H_0$.  Written out longhand that is \n",
    "\\begin{equation} E(z)= \\left(\\Omega_M (1+z)^3+\\Omega_K (1+z)^2+\\Omega_\\Lambda\\right)^{1/2}.\\end{equation}  \n",
    "(Or some more complex model!) \n",
    "Usually we set $\\Omega_R=0$ otherwise there would also be a $\\Omega_R (1+z)^4$ term (the actual radiation density is about $\\Omega_R\\sim5\\times 10^{-5}$), but IMPORTANT! you *cannot* set $\\Omega_K=0$ in general, because it is only zero if all the other densities add up to 1.  \n"
   ]
  },
  {
   "cell_type": "code",
   "execution_count": 1,
   "metadata": {},
   "outputs": [],
   "source": [
    "# First let's set up our packages\n",
    "import numpy as np\n",
    "from matplotlib import pyplot as plt\n",
    "from scipy import integrate\n",
    "\n",
    "# And set some constants\n",
    "c = 299792.458 # km/s (speed of light)\n",
    "\n",
    "H0kmsmpc = 70.  # Hubble constant in km/s/Mpc\n",
    "cH0mpc = c/H0kmsmpc   # c/H0 in Mpc  (the km/s cancel out in the numerator and denominator)\n",
    "cH0Glyr = cH0mpc * 3.262 / 1000 #c/H0 in billions of light years.  There are 3.262 light year / parsec"
   ]
  },
  {
   "cell_type": "code",
   "execution_count": 2,
   "metadata": {},
   "outputs": [
    {
     "name": "stdout",
     "output_type": "stream",
     "text": [
      "0 0\n",
      "1 -2.0\n",
      "2 -3\n",
      "3 -4.0\n"
     ]
    }
   ],
   "source": [
    "for i, w in enumerate([-1,-1/3,0,1/3]):\n",
    "    print(i, -3*(1+w))"
   ]
  },
  {
   "cell_type": "code",
   "execution_count": null,
   "metadata": {},
   "outputs": [],
   "source": []
  },
  {
   "cell_type": "markdown",
   "metadata": {},
   "source": [
    "### 2.1 Write some code to calculate the distance to a galaxy at redshift z\n",
    "\n",
    "Define the function you need to integrate, and integrate it for a single value of z that you choose. "
   ]
  },
  {
   "cell_type": "code",
   "execution_count": 3,
   "metadata": {},
   "outputs": [
    {
     "name": "stdout",
     "output_type": "stream",
     "text": [
      "Comoving distance to a galaxy at z=0.300 is 3.90 Glyr\n"
     ]
    }
   ],
   "source": [
    "# Write a function for the integrand, i.e. $1/E(z)$,\n",
    "def Ezinv(z, om, ol): #atm assumes or is zero\n",
    "    # ok = 1.0-om-ol\n",
    "    # Ez = np.sqrt(0.0) # Put your code here!  This is not right until you change it.\n",
    "    Ez = np.sqrt((om*(1+z)**3) + ((1.0-om-ol)*(1+z)**2) + (ol))\n",
    "    return 1.0/Ez\n",
    "\n",
    "# Choose the redshift (e.g. z=0.3)\n",
    "z=0.3\n",
    "\n",
    "# Choose a cosmology\n",
    "om, ol = 0.3, 0.7\n",
    "\n",
    "# Calcuate the integral (just the int_0^z(dz/E(z)) part, which gives xx=R0*X/(c/H_0)):\n",
    "xx = integrate.quad(Ezinv,0,z,args=(om,ol))[0] \n",
    "\n",
    "# Sub in the required constants to get the comoving distance R_0*X\n",
    "R0X = xx*cH0Glyr # Distance in Glyr\n",
    "\n",
    "print('Comoving distance to a galaxy at z=%.3f is %.2f Glyr'%(z,R0X))"
   ]
  },
  {
   "cell_type": "markdown",
   "metadata": {},
   "source": [
    "### 2.2 How far is that galaxy at different times?\n",
    "The comoving distance is normalised such that it is the distance at the present day.  How far was that galaxy (the one we currently observe at redshift z) at different times? To get the distance at a different time, just multiply the comoving distance by the scalefactor at that time. \n",
    "\\begin{equation} D(t(z),\\chi(z)) = a(t) R_0\\chi(z) \\end{equation}\n",
    "\n",
    "Example: take a galaxy at z=0.3.  \n",
    "* What was its distance from us when the universe was half its current size?\n",
    "* How far was it at the time the light we're seeing was emitted?  Recall that the scalefactor at the time of emisison can be derived from its redshift, i.e. a=1/(1+z)."
   ]
  },
  {
   "cell_type": "code",
   "execution_count": 4,
   "metadata": {},
   "outputs": [
    {
     "name": "stdout",
     "output_type": "stream",
     "text": [
      "Distance to a galaxy at z=0.300 when a=0.5 is 1.95 Glyr\n",
      "Distance to a galaxy at z=0.300 when the light we see was emitted is 3.00 Glyr\n",
      "Distance to a galaxy at z=0.300 right now is 3.90 Glyr\n"
     ]
    }
   ],
   "source": [
    "# Insert your code here\n",
    "# distance_half_size = 'your code here'\n",
    "distance_half_size = (0.5)*(cH0Glyr)*(integrate.quad(Ezinv,0,0.3,args=(om,ol))[0])\n",
    "# distance_at_emission = 'your code here'\n",
    "\n",
    "distance_at_emission = ((1+0.3)**-1)*(cH0Glyr)*(integrate.quad(Ezinv,0,0.3,args=(om,ol))[0])\n",
    "\n",
    "distance_now = (1)*(cH0Glyr)*(integrate.quad(Ezinv,0,0.3,args=(om,ol))[0])\n",
    "# Remember to write print statements to see the answers. \n",
    "print('Distance to a galaxy at z=%.3f when a=0.5 is %.2f Glyr'%(0.3,distance_half_size))\n",
    "print('Distance to a galaxy at z=%.3f when the light we see was emitted is %.2f Glyr'%(0.3,distance_at_emission))\n",
    "print('Distance to a galaxy at z=%.3f right now is %.2f Glyr'%(0.3,distance_now))\n"
   ]
  },
  {
   "cell_type": "markdown",
   "metadata": {},
   "source": [
    "### 2.3 Turn that into a plot of distance vs redshift\n",
    "\n",
    "Make an array of redshifts and make a loop to calculate the distance at each of those redshifts.  Then plot distance vs redshift. \n",
    "\n",
    "* Make one plot that is current distance ($R_0\\chi$) vs redshift.\n",
    "* Make another showing distance at the time of emission ($aR_0\\chi$) vs redshift. \n",
    "\n",
    "Do you notice anything interesting about the behaviour of these two different distances?"
   ]
  },
  {
   "cell_type": "code",
   "execution_count": 5,
   "metadata": {},
   "outputs": [
    {
     "data": {
      "image/png": "[encoded data removed]",
      "text/plain": [
       "<Figure size 640x480 with 1 Axes>"
      ]
     },
     "metadata": {},
     "output_type": "display_data"
    },
    {
     "data": {
      "text/plain": [
       "Text(0, 0.5, '$aR_0\\\\chi$ (Glyr)')"
      ]
     },
     "execution_count": 5,
     "metadata": {},
     "output_type": "execute_result"
    },
    {
     "data": {
      "image/png": "[encoded data removed]",
      "text/plain": [
       "<Figure size 640x480 with 1 Axes>"
      ]
     },
     "metadata": {},
     "output_type": "display_data"
    }
   ],
   "source": [
    "# Start by making an array of redshifts\n",
    "zstart = 0.0\n",
    "zstop = 4.1\n",
    "zstep = 0.1 # Make this finer to make the plot smoother\n",
    "zarr = np.arange(zstart,zstop,zstep)\n",
    "# print('zarr=',zarr)\n",
    "\n",
    "with_a_emit = np.zeros(len(zarr))\n",
    "# Now add your code to calculate distance vs redshift and then plot it.  \n",
    "xarr = np.zeros(len(zarr))\n",
    "for i, z in enumerate(zarr):\n",
    "    # xarr[i] = 0.0 #'Your code here'\n",
    "    xarr[i] = integrate.quad(Ezinv,0,z,args=(om,ol))[0]\n",
    "    a_emit = (1+z)**-1\n",
    "    with_a_emit[i] = a_emit*xarr[i]\n",
    "    \n",
    "\n",
    "\n",
    "\n",
    "    \n",
    "# Sub in the required constants to get the comoving distance R_0*X\n",
    "R0X = xarr*cH0Glyr # Distance in Glyr\n",
    "D_prop = with_a_emit*cH0Glyr\n",
    "\n",
    "plt.plot(zarr,R0X)\n",
    "plt.xlabel('redshift')\n",
    "plt.ylabel('$R_0\\chi$ (Glyr)')\n",
    "plt.show()\n",
    "\n",
    "plt.plot(zarr, D_prop)\n",
    "plt.xlabel('redshift')\n",
    "plt.ylabel('$aR_0\\chi$ (Glyr)')\n"
   ]
  },
  {
   "cell_type": "markdown",
   "metadata": {},
   "source": [
    "### 2.4 Luminosity distance and Angular diameter distance\n",
    "\n",
    "Luminosity distance ($D_L$) and angular diameter distance ($D_A$) are given by,\n",
    "\\begin{equation} D_L = R S_k(\\chi) (1+z) \\end{equation}\n",
    "\\begin{equation} D_A = R S_k(\\chi) / (1+z) \\end{equation}\n",
    "\n",
    "Where $S_k(\\chi) = \\sin(\\chi),\\chi,\\sinh(\\chi)$ for positive, flat, and negative curvatures respectively, i.e. for $\\Omega_K<0$, $\\Omega_K=0$, and $\\Omega_K>0$ respectively.  \n",
    "(Yes, $\\Omega_K<0$ is positive curvature!) "
   ]
  },
  {
   "cell_type": "markdown",
   "metadata": {},
   "source": [
    "#### Hint!  How to calculate $S_k(\\chi)$\n",
    "Note that if you've kept the constants out of your definition of Ez then, xx $\\equiv R_0\\chi/(c/H_0)$.  It is handy to know that,\n",
    "\\begin{equation}  \\frac{c}{R_0H_0}=\\sqrt{|\\Omega_K|}\\end{equation}\n",
    "so to just get $\\chi$ you can use xx multiplied by $\\sqrt{|\\Omega_K|}$.  \n",
    "Then to get $R_0 S_k(\\chi)/(c/H_0)$ divide the whole thing by $\\sqrt{|\\Omega_K|}$."
   ]
  },
  {
   "cell_type": "code",
   "execution_count": 6,
   "metadata": {},
   "outputs": [],
   "source": [
    "# You may find this function useful to calculate the perpendicular comoving distance R0*Sk(X)\n",
    "    # Corrects the comoving distance, xx, for curvature, ok.\n",
    "    # Result is perpendicular comoving distance / (c/H0)  \n",
    "    # i.e. it's the distance to use in angular diameter and luminosity distance\n",
    "def Sk(xx, ok):\n",
    "    if ok < 0.0:\n",
    "        dk = np.sin(np.sqrt(-ok)*xx)/np.sqrt(-ok)\n",
    "    elif ok > 0.0:\n",
    "        dk = np.sinh(np.sqrt(ok)*xx)/np.sqrt(ok)\n",
    "    else:\n",
    "        dk = xx\n",
    "    return dk\n",
    "# This returns a value for R_0S_k(\\chi) that you multiply by c/H_0 to give it units."
   ]
  },
  {
   "cell_type": "markdown",
   "metadata": {},
   "source": [
    "#### Calculate $D_L(z)$ and $D_A(z)$\n",
    "Plot the present day values ($R=R_0$) of luminosity distance and angular diameter distance as a function of redshift. Do you notice anything interesting about the angular diameter distance at high-redshift?"
   ]
  },
  {
   "cell_type": "code",
   "execution_count": 7,
   "metadata": {},
   "outputs": [],
   "source": [
    "ok = 1.0-om-ol\n",
    "DD = R0X                          # Proper distance\n",
    "DL = Sk(xarr,ok)*(1+zarr)*cH0Glyr # Luminosity distance\n",
    "DA = 'Your code here'             # Angular diameter distance\n",
    "\n",
    "#plt.plot(zarr,DD,label='Proper Distance')\n",
    "#plt.plot(zarr,DL,label='Luminosity Distance')\n",
    "##plt.plot(zarr,DA,label='Angular Diameter Distance')\n",
    "#plt.legend()\n",
    "#plt.xlabel('redshift')\n",
    "#plt.ylabel('$Distances$ (Glyr)')\n",
    "#plt.show()"
   ]
  }
 ],
 "metadata": {
  "kernelspec": {
   "display_name": "Python 3 (ipykernel)",
   "language": "python",
   "name": "python3"
  },
  "language_info": {
   "codemirror_mode": {
    "name": "ipython",
    "version": 3
   },
   "file_extension": ".py",
   "mimetype": "text/x-python",
   "name": "python",
   "nbconvert_exporter": "python",
   "pygments_lexer": "ipython3",
   "version": "3.9.18"
  }
 },
 "nbformat": 4,
 "nbformat_minor": 2
}
